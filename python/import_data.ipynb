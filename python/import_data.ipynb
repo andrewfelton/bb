{
 "cells": [
  {
   "cell_type": "code",
   "execution_count": 1,
   "metadata": {},
   "outputs": [],
   "source": [
    "import pandas as pd\n",
    "import qgrid"
   ]
  },
  {
   "cell_type": "code",
   "execution_count": 19,
   "metadata": {},
   "outputs": [],
   "source": [
    "basepath = '/Users/andrewfelton/Documents/bb/2021'\n",
    "datapath = basepath + '/data'\n",
    "\n",
    "fg_steamer_hitters = pd.read_csv(datapath + '/steamer_batters.csv')\n",
    "\n",
    "# drop extraneous columns\n",
    "fg_steamer_hitters = fg_steamer_hitters.drop(['-1', '-1.1','wRC+','BsR', 'Fld','-1.2','Off','Def','-1.3','ADP'], axis = 1)\n",
    "\n",
    "# move \"playerid\" column after \"Name\"\n",
    "fg_steamer_hitters.insert(1, 'playerid', fg_steamer_hitters.pop('playerid'))"
   ]
  },
  {
   "cell_type": "code",
   "execution_count": 20,
   "metadata": {},
   "outputs": [
    {
     "data": {
      "application/vnd.jupyter.widget-view+json": {
       "model_id": "bffef562d0934bc19e88d52da20f3ad9",
       "version_major": 2,
       "version_minor": 0
      },
      "text/plain": [
       "QgridWidget(grid_options={'fullWidthRows': True, 'syncColumnCellResize': True, 'forceFitColumns': False, 'defa…"
      ]
     },
     "metadata": {},
     "output_type": "display_data"
    }
   ],
   "source": [
    "fg_steamer_hitters['TB'] = fg_steamer_hitters['SLG'] * fg_steamer_hitters['AB']\n",
    "fg_steamer_hitters['TOB'] = fg_steamer_hitters['OBP'] * fg_steamer_hitters['PA']\n",
    "\n",
    "fg_steamer_hitters['HR.PA'] = fg_steamer_hitters['HR'] / fg_steamer_hitters['PA']\n",
    "fg_steamer_hitters['RBI.PA'] = fg_steamer_hitters['RBI'] / fg_steamer_hitters['PA']\n",
    "fg_steamer_hitters['R.PA'] = fg_steamer_hitters['R'] / fg_steamer_hitters['PA']\n",
    "fg_steamer_hitters['SB.PA'] = fg_steamer_hitters['SB'] / fg_steamer_hitters['PA']\n",
    "\n",
    "drop_cols = [\"G\", \"AB\", \"2B\", \"3B\", \"BB\", \"SO\", \"HBP\", \"CS\", \"AVG\", \"SLG\", \"wOBA\", \"WAR\", \"TB\", \"TOB\"]\n",
    "\n",
    "#qgrid.show_grid(fg_steamer_hitters,grid_options={'forceFitColumns': False, 'defaultColumnWidth': 70})\n",
    "qgrid.show_grid(fg_steamer_hitters.drop(columns=drop_cols),grid_options={'forceFitColumns': False, 'defaultColumnWidth': 70})\n",
    "#qgrid.show_grid(fg_steamer_hitters[[\"Name\",\"SB\"]],grid_options={'forceFitColumns': False, 'defaultColumnWidth': 70})"
   ]
  },
  {
   "cell_type": "code",
   "execution_count": null,
   "metadata": {},
   "outputs": [],
   "source": []
  },
  {
   "cell_type": "code",
   "execution_count": null,
   "metadata": {},
   "outputs": [],
   "source": []
  },
  {
   "cell_type": "code",
   "execution_count": null,
   "metadata": {},
   "outputs": [],
   "source": []
  },
  {
   "cell_type": "code",
   "execution_count": null,
   "metadata": {},
   "outputs": [],
   "source": []
  },
  {
   "cell_type": "code",
   "execution_count": null,
   "metadata": {},
   "outputs": [],
   "source": []
  }
 ],
 "metadata": {
  "kernelspec": {
   "display_name": "Python 3",
   "language": "python",
   "name": "python3"
  },
  "language_info": {
   "codemirror_mode": {
    "name": "ipython",
    "version": 3
   },
   "file_extension": ".py",
   "mimetype": "text/x-python",
   "name": "python",
   "nbconvert_exporter": "python",
   "pygments_lexer": "ipython3",
   "version": "3.7.1"
  }
 },
 "nbformat": 4,
 "nbformat_minor": 2
}
